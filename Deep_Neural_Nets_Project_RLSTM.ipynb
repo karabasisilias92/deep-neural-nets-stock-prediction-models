{
  "nbformat": 4,
  "nbformat_minor": 0,
  "metadata": {
    "colab": {
      "name": "Deep Neural Nets - Project - RLSTM.ipynb",
      "provenance": [],
      "collapsed_sections": [],
      "machine_shape": "hm"
    },
    "kernelspec": {
      "display_name": "Python 3",
      "name": "python3"
    }
  },
  "cells": [
    {
      "cell_type": "code",
      "metadata": {
        "colab": {
          "base_uri": "https://localhost:8080/"
        },
        "id": "87T5BetZQYQv",
        "outputId": "c1d9f5f4-3e9c-4673-8dd1-8fcdc6115a10"
      },
      "source": [
        "### google drive mount\n",
        "from google.colab import drive\n",
        "drive.mount ('/content/gdrive')"
      ],
      "execution_count": 17,
      "outputs": [
        {
          "output_type": "stream",
          "name": "stdout",
          "text": [
            "Drive already mounted at /content/gdrive; to attempt to forcibly remount, call drive.mount(\"/content/gdrive\", force_remount=True).\n"
          ]
        }
      ]
    },
    {
      "cell_type": "code",
      "metadata": {
        "id": "8CGFChjY3Jry"
      },
      "source": [
        "### necessary imports\n",
        "import pandas as pd\n",
        "import numpy as np\n",
        "from numpy import  random\n",
        "from math import floor\n",
        "from sklearn.preprocessing import MinMaxScaler\n",
        "from keras.callbacks import EarlyStopping, ModelCheckpoint\n",
        "from keras.models import Sequential, Model\n",
        "from keras.layers import LSTM, Dense, Input, concatenate\n",
        "from tensorflow.keras.losses import MeanSquaredError, MeanAbsoluteError, MeanAbsolutePercentageError\n",
        "import matplotlib.pyplot as plt\n",
        "%matplotlib inline"
      ],
      "execution_count": 18,
      "outputs": []
    },
    {
      "cell_type": "code",
      "metadata": {
        "id": "oMm8COOZ9rfx"
      },
      "source": [
        "### read data for 2 stocks AAL and GOOGL\n",
        "aal_stock_data = pd.read_csv('/content/gdrive/MyDrive/Colab Notebooks/Deep Neural Nets/Project/AAL_data.csv',delimiter=',', encoding='ISO-8859–1')\n",
        "googl_stock_data = pd.read_csv('/content/gdrive/MyDrive/Colab Notebooks/Deep Neural Nets/Project/GOOGL_data.csv',delimiter=',', encoding='ISO-8859–1')\n",
        "\n",
        "# from the pandas dictionary keep only close prices for the stock AAL\n",
        "aal_stock_data_close = aal_stock_data[['close']]\n",
        "\n",
        "# get min/max value for the close prices, in order to create the data for the prevention module\n",
        "aal_max_close = aal_stock_data_close.max()\n",
        "aal_min_close = aal_stock_data_close.min()\n",
        "prevention_module_data = []\n",
        "\n",
        "# the prevention module includes random values from the uniform distribution between the min and max closing price of the stock\n",
        "for i in range(aal_stock_data_close.shape[0]):\n",
        "    prevention_module_data.append(random.uniform(aal_min_close, aal_max_close))\n",
        "\n",
        "# convert list to numpy array\n",
        "prevention_module_data = np.array(prevention_module_data)\n",
        "\n",
        "\n",
        "# repeat the above process for GOOGL stock\n",
        "googl_stock_data_close = googl_stock_data[['close']]\n",
        "googl_max_close = googl_stock_data_close.max()\n",
        "googl_min_close = googl_stock_data_close.min()\n",
        "googl_prevention_module_data = []\n",
        "for i in range(googl_stock_data_close.shape[0]):\n",
        "    googl_prevention_module_data.append(random.uniform(googl_min_close, googl_max_close))\n",
        "\n",
        "googl_prevention_module_data = np.array(googl_prevention_module_data)"
      ],
      "execution_count": 19,
      "outputs": []
    },
    {
      "cell_type": "code",
      "metadata": {
        "id": "nJKoXssG-yZa"
      },
      "source": [
        "# the below function divides the initial data to training, validation and test set\n",
        "# the percentages are 70%, 10% and 20% respectively\n",
        "def get_train_validation_test_sets(stock):\n",
        "    data = stock.to_numpy() # convert to numpy array\n",
        "\n",
        "    val_test_set_size = int(np.round(0.3*data.shape[0])); # validation and test set size together\n",
        "    train_set_size = data.shape[0] - (val_test_set_size);\n",
        "\n",
        "    train_data = data[:train_set_size]\n",
        "\n",
        "    validation_data = data[train_set_size:floor(train_set_size + val_test_set_size/3)]\n",
        "  \n",
        "    test_data = data[floor(train_set_size + val_test_set_size/3):]\n",
        "    \n",
        "    return [train_data, validation_data, test_data]\n",
        "\n",
        "# get the train, validation and test data from initial AAL closing stock prices\n",
        "train_data, validation_data, test_data = get_train_validation_test_sets(aal_stock_data_close)\n",
        "\n",
        "# breakdown the prevention module input data accordingly for train, validation and test\n",
        "train_prevention_module_data = prevention_module_data[:train_data.shape[0], :]\n",
        "validation_prevention_module_data = prevention_module_data[train_data.shape[0]:(train_data.shape[0] + validation_data.shape[0]), :]\n",
        "test_prevention_module_data = prevention_module_data[-test_data.shape[0]:, :]\n",
        "\n",
        "#### repeat the above process for GOOGL stock but just for test since we only want this to test our model in an \"unknown\" stock\n",
        "_, _, googl_test_data = get_train_validation_test_sets(googl_stock_data_close)\n",
        "googl_test_prevention_module_data = googl_prevention_module_data[-googl_test_data.shape[0]:, :]"
      ],
      "execution_count": 20,
      "outputs": []
    },
    {
      "cell_type": "code",
      "metadata": {
        "id": "d5LamFTO_MX5"
      },
      "source": [
        "# create a MinMax scaler for AAL\n",
        "aal_scaler = MinMaxScaler(feature_range=(0, 1))\n",
        "\n",
        "# fit and transform train, validation and test prevention module data for AAL\n",
        "train_prevention_module_data = aal_scaler.fit_transform(train_prevention_module_data.reshape(-1,1))\n",
        "validation_prevention_module_data = aal_scaler.fit_transform(validation_prevention_module_data.reshape(-1,1))\n",
        "test_prevention_module_data = aal_scaler.fit_transform(test_prevention_module_data.reshape(-1,1))\n",
        "\n",
        "# fit and transform train, validation and test data for AAL\n",
        "train_data = aal_scaler.fit_transform(train_data.reshape(-1,1))\n",
        "validation_data = aal_scaler.fit_transform(validation_data.reshape(-1,1))\n",
        "test_data = aal_scaler.fit_transform(test_data.reshape(-1,1))\n",
        "\n",
        "# repeat the above process for GOOGL\n",
        "googl_scaler = MinMaxScaler(feature_range=(0, 1))\n",
        "\n",
        "googl_test_prevention_module_data = googl_scaler.fit_transform(googl_test_prevention_module_data.reshape(-1,1))\n",
        "\n",
        "googl_test_data = googl_scaler.fit_transform(googl_test_data.reshape(-1,1))"
      ],
      "execution_count": 21,
      "outputs": []
    },
    {
      "cell_type": "code",
      "metadata": {
        "id": "kqJHBsnuN6xn"
      },
      "source": [
        "# the below function splits the data in \"windows\" of lookback size\n",
        "# for each window the next value in the dataset is the corresponding output\n",
        "def split_data(data_raw, lookback):\n",
        "    x = []\n",
        "    y = []\n",
        "    for i in range(lookback, data_raw.shape[0]):\n",
        "        x.append(data_raw[i-lookback:i, 0])\n",
        "        y.append(data_raw[i, 0])\n",
        "\n",
        "    x, y = np.array(x), np.array(y)\n",
        "    x = np.reshape(x, (x.shape[0], x.shape[1], 1))\n",
        "    \n",
        "    return [x, y]\n",
        "\n",
        "\n",
        "lookback = 20 # desired time series sequence length, tested for 10, 20, 30 and 50\n",
        "\n",
        "# create the x and y train, validation and test data for AAL\n",
        "x_train, y_train = split_data(train_data, lookback)\n",
        "x_validation, y_validation = split_data(validation_data, lookback)\n",
        "x_test, y_test = split_data(test_data, lookback)\n",
        "\n",
        "# for each window in the prediction module we create also a window of the same size in the prevention module\n",
        "# though here we do not need the output data\n",
        "prevention_module_data_train, _ = split_data(train_prevention_module_data, lookback)\n",
        "prevention_module_data_validation, _ = split_data(validation_prevention_module_data, lookback)\n",
        "prevention_module_data_test, _ = split_data(test_prevention_module_data, lookback)\n",
        "\n",
        "# repeat the above process for test data for GOOGL\n",
        "x_test_googl, y_test_googl = split_data(googl_test_data, lookback)\n",
        "\n",
        "googl_prevention_module_data_test, _ = split_data(googl_test_prevention_module_data, lookback)"
      ],
      "execution_count": 22,
      "outputs": []
    },
    {
      "cell_type": "code",
      "metadata": {
        "colab": {
          "base_uri": "https://localhost:8080/"
        },
        "id": "HHlFdngP4ZnU",
        "outputId": "5d4506d3-16a4-4a51-bb62-164b7fa12e9b"
      },
      "source": [
        "### define RLSTM model\n",
        "#!!! IMPORTANT !!! for all the below fully connected layers\n",
        "# the number of units for the fully connected layer was chosen according to the paper from which we took the idea of the topology\n",
        "\n",
        "# hyperparameters\n",
        "hidden_dim = 32\n",
        "num_epochs = 1000\n",
        "learning_rate = 0.00001\n",
        "batch_size = 32\n",
        "\n",
        "# callbacks for early stopping and best model so far restoration\n",
        "callbacks = [\n",
        "    # If the model does not improve for `patience` epochs, then restore weights\n",
        "    # and stop training.\n",
        "    EarlyStopping(patience=5, restore_best_weights=True),\n",
        "    # Save the best model compared with the current epoch.\n",
        "    ModelCheckpoint(\n",
        "        './models/rlstm.h5',\n",
        "        save_best_only=True,\n",
        "        verbose=1)\n",
        "]\n",
        "\n",
        "# prediction module definition\n",
        "prediction_module_input  = Input(shape=(x_train.shape[1], 1))\n",
        "prediction_module = LSTM(units=hidden_dim, name='lstm')(prediction_module_input)\n",
        "prediction_module = Dense(units=4, activation='linear', name='PRED_FC')(prediction_module)\n",
        "\n",
        "# prevention module definition\n",
        "prevention_module_input = Input(shape=(prevention_module_data_train.shape[1]))\n",
        "prevention_module = Dense(units=2, activation='linear', name='PREVEN_FC')(prevention_module_input)\n",
        "\n",
        "# merge the to modules into one model\n",
        "merged_input = concatenate([prediction_module, prevention_module])\n",
        "\n",
        "merged = Dense(units=2, activation='linear', name='TOP_FC_Input')(merged_input)\n",
        "out = Dense(units=1, activation='linear', name='TOP_FC_Output')(merged)\n",
        "RLSTM = Model(inputs = [prediction_module_input, prevention_module_input], outputs = [out])\n",
        "\n",
        "# adam optimizer is chosen and mean squared loss is used as loss function\n",
        "RLSTM.compile(optimizer='adam', loss='mean_squared_error')\n",
        "\n",
        "print('RLST Model Summary: ')\n",
        "RLSTM.summary()"
      ],
      "execution_count": 23,
      "outputs": [
        {
          "output_type": "stream",
          "name": "stdout",
          "text": [
            "RLST Model Summary: \n",
            "Model: \"model_1\"\n",
            "__________________________________________________________________________________________________\n",
            "Layer (type)                    Output Shape         Param #     Connected to                     \n",
            "==================================================================================================\n",
            "input_3 (InputLayer)            [(None, 20, 1)]      0                                            \n",
            "__________________________________________________________________________________________________\n",
            "lstm (LSTM)                     (None, 32)           4352        input_3[0][0]                    \n",
            "__________________________________________________________________________________________________\n",
            "input_4 (InputLayer)            [(None, 20)]         0                                            \n",
            "__________________________________________________________________________________________________\n",
            "PRED_FC (Dense)                 (None, 4)            132         lstm[0][0]                       \n",
            "__________________________________________________________________________________________________\n",
            "PREVEN_FC (Dense)               (None, 2)            42          input_4[0][0]                    \n",
            "__________________________________________________________________________________________________\n",
            "concatenate_1 (Concatenate)     (None, 6)            0           PRED_FC[0][0]                    \n",
            "                                                                 PREVEN_FC[0][0]                  \n",
            "__________________________________________________________________________________________________\n",
            "TOP_FC_Input (Dense)            (None, 2)            14          concatenate_1[0][0]              \n",
            "__________________________________________________________________________________________________\n",
            "TOP_FC_Output (Dense)           (None, 1)            3           TOP_FC_Input[0][0]               \n",
            "==================================================================================================\n",
            "Total params: 4,543\n",
            "Trainable params: 4,543\n",
            "Non-trainable params: 0\n",
            "__________________________________________________________________________________________________\n"
          ]
        }
      ]
    },
    {
      "cell_type": "code",
      "metadata": {
        "colab": {
          "base_uri": "https://localhost:8080/"
        },
        "id": "4ncuj2qy8vP5",
        "outputId": "b68efe11-feb9-437a-d09f-0028961af0bf"
      },
      "source": [
        "### train the model\n",
        "RLSTM.fit([x_train, prevention_module_data_train], y_train, epochs=num_epochs, batch_size=batch_size, validation_data=([x_validation, prevention_module_data_validation], y_validation), callbacks=callbacks)"
      ],
      "execution_count": 24,
      "outputs": [
        {
          "output_type": "stream",
          "name": "stdout",
          "text": [
            "Epoch 1/1000\n",
            "27/27 [==============================] - 3s 31ms/step - loss: 0.1464 - val_loss: 0.0592\n",
            "\n",
            "Epoch 00001: val_loss improved from inf to 0.05915, saving model to ./models/rlstm.h5\n",
            "Epoch 2/1000\n",
            "27/27 [==============================] - 0s 12ms/step - loss: 0.0434 - val_loss: 0.0494\n",
            "\n",
            "Epoch 00002: val_loss improved from 0.05915 to 0.04937, saving model to ./models/rlstm.h5\n",
            "Epoch 3/1000\n",
            "27/27 [==============================] - 0s 12ms/step - loss: 0.0334 - val_loss: 0.0439\n",
            "\n",
            "Epoch 00003: val_loss improved from 0.04937 to 0.04392, saving model to ./models/rlstm.h5\n",
            "Epoch 4/1000\n",
            "27/27 [==============================] - 0s 11ms/step - loss: 0.0263 - val_loss: 0.0365\n",
            "\n",
            "Epoch 00004: val_loss improved from 0.04392 to 0.03649, saving model to ./models/rlstm.h5\n",
            "Epoch 5/1000\n",
            "27/27 [==============================] - 0s 12ms/step - loss: 0.0217 - val_loss: 0.0330\n",
            "\n",
            "Epoch 00005: val_loss improved from 0.03649 to 0.03298, saving model to ./models/rlstm.h5\n",
            "Epoch 6/1000\n",
            "27/27 [==============================] - 0s 11ms/step - loss: 0.0184 - val_loss: 0.0281\n",
            "\n",
            "Epoch 00006: val_loss improved from 0.03298 to 0.02813, saving model to ./models/rlstm.h5\n",
            "Epoch 7/1000\n",
            "27/27 [==============================] - 0s 11ms/step - loss: 0.0151 - val_loss: 0.0253\n",
            "\n",
            "Epoch 00007: val_loss improved from 0.02813 to 0.02530, saving model to ./models/rlstm.h5\n",
            "Epoch 8/1000\n",
            "27/27 [==============================] - 0s 11ms/step - loss: 0.0127 - val_loss: 0.0223\n",
            "\n",
            "Epoch 00008: val_loss improved from 0.02530 to 0.02232, saving model to ./models/rlstm.h5\n",
            "Epoch 9/1000\n",
            "27/27 [==============================] - 0s 11ms/step - loss: 0.0108 - val_loss: 0.0200\n",
            "\n",
            "Epoch 00009: val_loss improved from 0.02232 to 0.02001, saving model to ./models/rlstm.h5\n",
            "Epoch 10/1000\n",
            "27/27 [==============================] - 0s 11ms/step - loss: 0.0090 - val_loss: 0.0191\n",
            "\n",
            "Epoch 00010: val_loss improved from 0.02001 to 0.01906, saving model to ./models/rlstm.h5\n",
            "Epoch 11/1000\n",
            "27/27 [==============================] - 0s 12ms/step - loss: 0.0076 - val_loss: 0.0170\n",
            "\n",
            "Epoch 00011: val_loss improved from 0.01906 to 0.01704, saving model to ./models/rlstm.h5\n",
            "Epoch 12/1000\n",
            "27/27 [==============================] - 0s 12ms/step - loss: 0.0065 - val_loss: 0.0154\n",
            "\n",
            "Epoch 00012: val_loss improved from 0.01704 to 0.01538, saving model to ./models/rlstm.h5\n",
            "Epoch 13/1000\n",
            "27/27 [==============================] - 0s 11ms/step - loss: 0.0055 - val_loss: 0.0143\n",
            "\n",
            "Epoch 00013: val_loss improved from 0.01538 to 0.01428, saving model to ./models/rlstm.h5\n",
            "Epoch 14/1000\n",
            "27/27 [==============================] - 0s 12ms/step - loss: 0.0048 - val_loss: 0.0135\n",
            "\n",
            "Epoch 00014: val_loss improved from 0.01428 to 0.01348, saving model to ./models/rlstm.h5\n",
            "Epoch 15/1000\n",
            "27/27 [==============================] - 0s 12ms/step - loss: 0.0042 - val_loss: 0.0125\n",
            "\n",
            "Epoch 00015: val_loss improved from 0.01348 to 0.01247, saving model to ./models/rlstm.h5\n",
            "Epoch 16/1000\n",
            "27/27 [==============================] - 0s 12ms/step - loss: 0.0038 - val_loss: 0.0123\n",
            "\n",
            "Epoch 00016: val_loss improved from 0.01247 to 0.01226, saving model to ./models/rlstm.h5\n",
            "Epoch 17/1000\n",
            "27/27 [==============================] - 0s 13ms/step - loss: 0.0032 - val_loss: 0.0114\n",
            "\n",
            "Epoch 00017: val_loss improved from 0.01226 to 0.01136, saving model to ./models/rlstm.h5\n",
            "Epoch 18/1000\n",
            "27/27 [==============================] - 0s 12ms/step - loss: 0.0029 - val_loss: 0.0108\n",
            "\n",
            "Epoch 00018: val_loss improved from 0.01136 to 0.01076, saving model to ./models/rlstm.h5\n",
            "Epoch 19/1000\n",
            "27/27 [==============================] - 0s 13ms/step - loss: 0.0026 - val_loss: 0.0102\n",
            "\n",
            "Epoch 00019: val_loss improved from 0.01076 to 0.01019, saving model to ./models/rlstm.h5\n",
            "Epoch 20/1000\n",
            "27/27 [==============================] - 0s 12ms/step - loss: 0.0024 - val_loss: 0.0099\n",
            "\n",
            "Epoch 00020: val_loss improved from 0.01019 to 0.00988, saving model to ./models/rlstm.h5\n",
            "Epoch 21/1000\n",
            "27/27 [==============================] - 0s 11ms/step - loss: 0.0021 - val_loss: 0.0098\n",
            "\n",
            "Epoch 00021: val_loss improved from 0.00988 to 0.00982, saving model to ./models/rlstm.h5\n",
            "Epoch 22/1000\n",
            "27/27 [==============================] - 0s 11ms/step - loss: 0.0020 - val_loss: 0.0089\n",
            "\n",
            "Epoch 00022: val_loss improved from 0.00982 to 0.00892, saving model to ./models/rlstm.h5\n",
            "Epoch 23/1000\n",
            "27/27 [==============================] - 0s 13ms/step - loss: 0.0018 - val_loss: 0.0086\n",
            "\n",
            "Epoch 00023: val_loss improved from 0.00892 to 0.00856, saving model to ./models/rlstm.h5\n",
            "Epoch 24/1000\n",
            "27/27 [==============================] - 0s 12ms/step - loss: 0.0017 - val_loss: 0.0085\n",
            "\n",
            "Epoch 00024: val_loss improved from 0.00856 to 0.00849, saving model to ./models/rlstm.h5\n",
            "Epoch 25/1000\n",
            "27/27 [==============================] - 0s 13ms/step - loss: 0.0016 - val_loss: 0.0080\n",
            "\n",
            "Epoch 00025: val_loss improved from 0.00849 to 0.00803, saving model to ./models/rlstm.h5\n",
            "Epoch 26/1000\n",
            "27/27 [==============================] - 0s 12ms/step - loss: 0.0015 - val_loss: 0.0076\n",
            "\n",
            "Epoch 00026: val_loss improved from 0.00803 to 0.00761, saving model to ./models/rlstm.h5\n",
            "Epoch 27/1000\n",
            "27/27 [==============================] - 0s 12ms/step - loss: 0.0014 - val_loss: 0.0075\n",
            "\n",
            "Epoch 00027: val_loss improved from 0.00761 to 0.00748, saving model to ./models/rlstm.h5\n",
            "Epoch 28/1000\n",
            "27/27 [==============================] - 0s 12ms/step - loss: 0.0014 - val_loss: 0.0072\n",
            "\n",
            "Epoch 00028: val_loss improved from 0.00748 to 0.00718, saving model to ./models/rlstm.h5\n",
            "Epoch 29/1000\n",
            "27/27 [==============================] - 0s 12ms/step - loss: 0.0013 - val_loss: 0.0073\n",
            "\n",
            "Epoch 00029: val_loss did not improve from 0.00718\n",
            "Epoch 30/1000\n",
            "27/27 [==============================] - 0s 11ms/step - loss: 0.0013 - val_loss: 0.0070\n",
            "\n",
            "Epoch 00030: val_loss improved from 0.00718 to 0.00701, saving model to ./models/rlstm.h5\n",
            "Epoch 31/1000\n",
            "27/27 [==============================] - 0s 12ms/step - loss: 0.0013 - val_loss: 0.0066\n",
            "\n",
            "Epoch 00031: val_loss improved from 0.00701 to 0.00664, saving model to ./models/rlstm.h5\n",
            "Epoch 32/1000\n",
            "27/27 [==============================] - 0s 11ms/step - loss: 0.0012 - val_loss: 0.0067\n",
            "\n",
            "Epoch 00032: val_loss did not improve from 0.00664\n",
            "Epoch 33/1000\n",
            "27/27 [==============================] - 0s 11ms/step - loss: 0.0012 - val_loss: 0.0064\n",
            "\n",
            "Epoch 00033: val_loss improved from 0.00664 to 0.00637, saving model to ./models/rlstm.h5\n",
            "Epoch 34/1000\n",
            "27/27 [==============================] - 0s 12ms/step - loss: 0.0011 - val_loss: 0.0062\n",
            "\n",
            "Epoch 00034: val_loss improved from 0.00637 to 0.00620, saving model to ./models/rlstm.h5\n",
            "Epoch 35/1000\n",
            "27/27 [==============================] - 0s 12ms/step - loss: 0.0011 - val_loss: 0.0061\n",
            "\n",
            "Epoch 00035: val_loss improved from 0.00620 to 0.00605, saving model to ./models/rlstm.h5\n",
            "Epoch 36/1000\n",
            "27/27 [==============================] - 0s 11ms/step - loss: 0.0011 - val_loss: 0.0059\n",
            "\n",
            "Epoch 00036: val_loss improved from 0.00605 to 0.00592, saving model to ./models/rlstm.h5\n",
            "Epoch 37/1000\n",
            "27/27 [==============================] - 0s 12ms/step - loss: 0.0011 - val_loss: 0.0058\n",
            "\n",
            "Epoch 00037: val_loss improved from 0.00592 to 0.00585, saving model to ./models/rlstm.h5\n",
            "Epoch 38/1000\n",
            "27/27 [==============================] - 0s 12ms/step - loss: 0.0011 - val_loss: 0.0058\n",
            "\n",
            "Epoch 00038: val_loss improved from 0.00585 to 0.00578, saving model to ./models/rlstm.h5\n",
            "Epoch 39/1000\n",
            "27/27 [==============================] - 0s 12ms/step - loss: 0.0010 - val_loss: 0.0057\n",
            "\n",
            "Epoch 00039: val_loss improved from 0.00578 to 0.00566, saving model to ./models/rlstm.h5\n",
            "Epoch 40/1000\n",
            "27/27 [==============================] - 0s 12ms/step - loss: 9.8649e-04 - val_loss: 0.0058\n",
            "\n",
            "Epoch 00040: val_loss did not improve from 0.00566\n",
            "Epoch 41/1000\n",
            "27/27 [==============================] - 0s 12ms/step - loss: 9.8173e-04 - val_loss: 0.0055\n",
            "\n",
            "Epoch 00041: val_loss improved from 0.00566 to 0.00554, saving model to ./models/rlstm.h5\n",
            "Epoch 42/1000\n",
            "27/27 [==============================] - 0s 12ms/step - loss: 9.5096e-04 - val_loss: 0.0055\n",
            "\n",
            "Epoch 00042: val_loss improved from 0.00554 to 0.00545, saving model to ./models/rlstm.h5\n",
            "Epoch 43/1000\n",
            "27/27 [==============================] - 0s 12ms/step - loss: 9.3526e-04 - val_loss: 0.0054\n",
            "\n",
            "Epoch 00043: val_loss improved from 0.00545 to 0.00542, saving model to ./models/rlstm.h5\n",
            "Epoch 44/1000\n",
            "27/27 [==============================] - 0s 12ms/step - loss: 9.2484e-04 - val_loss: 0.0052\n",
            "\n",
            "Epoch 00044: val_loss improved from 0.00542 to 0.00516, saving model to ./models/rlstm.h5\n",
            "Epoch 45/1000\n",
            "27/27 [==============================] - 0s 12ms/step - loss: 9.4454e-04 - val_loss: 0.0053\n",
            "\n",
            "Epoch 00045: val_loss did not improve from 0.00516\n",
            "Epoch 46/1000\n",
            "27/27 [==============================] - 0s 12ms/step - loss: 9.1021e-04 - val_loss: 0.0051\n",
            "\n",
            "Epoch 00046: val_loss improved from 0.00516 to 0.00512, saving model to ./models/rlstm.h5\n",
            "Epoch 47/1000\n",
            "27/27 [==============================] - 0s 12ms/step - loss: 8.5538e-04 - val_loss: 0.0049\n",
            "\n",
            "Epoch 00047: val_loss improved from 0.00512 to 0.00494, saving model to ./models/rlstm.h5\n",
            "Epoch 48/1000\n",
            "27/27 [==============================] - 0s 12ms/step - loss: 8.3553e-04 - val_loss: 0.0052\n",
            "\n",
            "Epoch 00048: val_loss did not improve from 0.00494\n",
            "Epoch 49/1000\n",
            "27/27 [==============================] - 0s 12ms/step - loss: 8.1772e-04 - val_loss: 0.0048\n",
            "\n",
            "Epoch 00049: val_loss improved from 0.00494 to 0.00479, saving model to ./models/rlstm.h5\n",
            "Epoch 50/1000\n",
            "27/27 [==============================] - 0s 11ms/step - loss: 7.9398e-04 - val_loss: 0.0048\n",
            "\n",
            "Epoch 00050: val_loss improved from 0.00479 to 0.00478, saving model to ./models/rlstm.h5\n",
            "Epoch 51/1000\n",
            "27/27 [==============================] - 0s 12ms/step - loss: 7.9092e-04 - val_loss: 0.0048\n",
            "\n",
            "Epoch 00051: val_loss did not improve from 0.00478\n",
            "Epoch 52/1000\n",
            "27/27 [==============================] - 0s 12ms/step - loss: 7.6078e-04 - val_loss: 0.0047\n",
            "\n",
            "Epoch 00052: val_loss improved from 0.00478 to 0.00468, saving model to ./models/rlstm.h5\n",
            "Epoch 53/1000\n",
            "27/27 [==============================] - 0s 12ms/step - loss: 7.6215e-04 - val_loss: 0.0047\n",
            "\n",
            "Epoch 00053: val_loss improved from 0.00468 to 0.00467, saving model to ./models/rlstm.h5\n",
            "Epoch 54/1000\n",
            "27/27 [==============================] - 0s 12ms/step - loss: 7.2673e-04 - val_loss: 0.0045\n",
            "\n",
            "Epoch 00054: val_loss improved from 0.00467 to 0.00449, saving model to ./models/rlstm.h5\n",
            "Epoch 55/1000\n",
            "27/27 [==============================] - 0s 12ms/step - loss: 7.2048e-04 - val_loss: 0.0044\n",
            "\n",
            "Epoch 00055: val_loss improved from 0.00449 to 0.00442, saving model to ./models/rlstm.h5\n",
            "Epoch 56/1000\n",
            "27/27 [==============================] - 0s 11ms/step - loss: 7.1033e-04 - val_loss: 0.0044\n",
            "\n",
            "Epoch 00056: val_loss improved from 0.00442 to 0.00437, saving model to ./models/rlstm.h5\n",
            "Epoch 57/1000\n",
            "27/27 [==============================] - 0s 11ms/step - loss: 7.3836e-04 - val_loss: 0.0044\n",
            "\n",
            "Epoch 00057: val_loss improved from 0.00437 to 0.00437, saving model to ./models/rlstm.h5\n",
            "Epoch 58/1000\n",
            "27/27 [==============================] - 0s 11ms/step - loss: 7.2619e-04 - val_loss: 0.0043\n",
            "\n",
            "Epoch 00058: val_loss improved from 0.00437 to 0.00426, saving model to ./models/rlstm.h5\n",
            "Epoch 59/1000\n",
            "27/27 [==============================] - 0s 12ms/step - loss: 7.0106e-04 - val_loss: 0.0042\n",
            "\n",
            "Epoch 00059: val_loss improved from 0.00426 to 0.00420, saving model to ./models/rlstm.h5\n",
            "Epoch 60/1000\n",
            "27/27 [==============================] - 0s 12ms/step - loss: 6.6593e-04 - val_loss: 0.0042\n",
            "\n",
            "Epoch 00060: val_loss improved from 0.00420 to 0.00417, saving model to ./models/rlstm.h5\n",
            "Epoch 61/1000\n",
            "27/27 [==============================] - 0s 11ms/step - loss: 6.4435e-04 - val_loss: 0.0041\n",
            "\n",
            "Epoch 00061: val_loss improved from 0.00417 to 0.00410, saving model to ./models/rlstm.h5\n",
            "Epoch 62/1000\n",
            "27/27 [==============================] - 0s 11ms/step - loss: 6.6597e-04 - val_loss: 0.0041\n",
            "\n",
            "Epoch 00062: val_loss did not improve from 0.00410\n",
            "Epoch 63/1000\n",
            "27/27 [==============================] - 0s 12ms/step - loss: 6.3658e-04 - val_loss: 0.0041\n",
            "\n",
            "Epoch 00063: val_loss improved from 0.00410 to 0.00410, saving model to ./models/rlstm.h5\n",
            "Epoch 64/1000\n",
            "27/27 [==============================] - 0s 11ms/step - loss: 7.0489e-04 - val_loss: 0.0040\n",
            "\n",
            "Epoch 00064: val_loss improved from 0.00410 to 0.00402, saving model to ./models/rlstm.h5\n",
            "Epoch 65/1000\n",
            "27/27 [==============================] - 0s 11ms/step - loss: 6.3785e-04 - val_loss: 0.0042\n",
            "\n",
            "Epoch 00065: val_loss did not improve from 0.00402\n",
            "Epoch 66/1000\n",
            "27/27 [==============================] - 0s 12ms/step - loss: 6.2370e-04 - val_loss: 0.0039\n",
            "\n",
            "Epoch 00066: val_loss improved from 0.00402 to 0.00392, saving model to ./models/rlstm.h5\n",
            "Epoch 67/1000\n",
            "27/27 [==============================] - 0s 12ms/step - loss: 6.2066e-04 - val_loss: 0.0041\n",
            "\n",
            "Epoch 00067: val_loss did not improve from 0.00392\n",
            "Epoch 68/1000\n",
            "27/27 [==============================] - 0s 12ms/step - loss: 5.9891e-04 - val_loss: 0.0039\n",
            "\n",
            "Epoch 00068: val_loss improved from 0.00392 to 0.00387, saving model to ./models/rlstm.h5\n",
            "Epoch 69/1000\n",
            "27/27 [==============================] - 0s 12ms/step - loss: 6.0214e-04 - val_loss: 0.0038\n",
            "\n",
            "Epoch 00069: val_loss improved from 0.00387 to 0.00381, saving model to ./models/rlstm.h5\n",
            "Epoch 70/1000\n",
            "27/27 [==============================] - 0s 12ms/step - loss: 5.9479e-04 - val_loss: 0.0040\n",
            "\n",
            "Epoch 00070: val_loss did not improve from 0.00381\n",
            "Epoch 71/1000\n",
            "27/27 [==============================] - 0s 11ms/step - loss: 6.1675e-04 - val_loss: 0.0037\n",
            "\n",
            "Epoch 00071: val_loss improved from 0.00381 to 0.00373, saving model to ./models/rlstm.h5\n",
            "Epoch 72/1000\n",
            "27/27 [==============================] - 0s 11ms/step - loss: 6.1751e-04 - val_loss: 0.0040\n",
            "\n",
            "Epoch 00072: val_loss did not improve from 0.00373\n",
            "Epoch 73/1000\n",
            "27/27 [==============================] - 0s 12ms/step - loss: 6.5282e-04 - val_loss: 0.0037\n",
            "\n",
            "Epoch 00073: val_loss improved from 0.00373 to 0.00372, saving model to ./models/rlstm.h5\n",
            "Epoch 74/1000\n",
            "27/27 [==============================] - 0s 11ms/step - loss: 5.9254e-04 - val_loss: 0.0043\n",
            "\n",
            "Epoch 00074: val_loss did not improve from 0.00372\n",
            "Epoch 75/1000\n",
            "27/27 [==============================] - 0s 12ms/step - loss: 6.1177e-04 - val_loss: 0.0037\n",
            "\n",
            "Epoch 00075: val_loss did not improve from 0.00372\n",
            "Epoch 76/1000\n",
            "27/27 [==============================] - 0s 12ms/step - loss: 5.7581e-04 - val_loss: 0.0036\n",
            "\n",
            "Epoch 00076: val_loss improved from 0.00372 to 0.00363, saving model to ./models/rlstm.h5\n",
            "Epoch 77/1000\n",
            "27/27 [==============================] - 0s 12ms/step - loss: 5.7609e-04 - val_loss: 0.0036\n",
            "\n",
            "Epoch 00077: val_loss improved from 0.00363 to 0.00362, saving model to ./models/rlstm.h5\n",
            "Epoch 78/1000\n",
            "27/27 [==============================] - 0s 12ms/step - loss: 5.6398e-04 - val_loss: 0.0038\n",
            "\n",
            "Epoch 00078: val_loss did not improve from 0.00362\n",
            "Epoch 79/1000\n",
            "27/27 [==============================] - 0s 12ms/step - loss: 6.4274e-04 - val_loss: 0.0036\n",
            "\n",
            "Epoch 00079: val_loss improved from 0.00362 to 0.00355, saving model to ./models/rlstm.h5\n",
            "Epoch 80/1000\n",
            "27/27 [==============================] - 0s 12ms/step - loss: 6.2052e-04 - val_loss: 0.0037\n",
            "\n",
            "Epoch 00080: val_loss did not improve from 0.00355\n",
            "Epoch 81/1000\n",
            "27/27 [==============================] - 0s 12ms/step - loss: 5.6802e-04 - val_loss: 0.0036\n",
            "\n",
            "Epoch 00081: val_loss did not improve from 0.00355\n",
            "Epoch 82/1000\n",
            "27/27 [==============================] - 0s 12ms/step - loss: 6.3714e-04 - val_loss: 0.0035\n",
            "\n",
            "Epoch 00082: val_loss improved from 0.00355 to 0.00348, saving model to ./models/rlstm.h5\n",
            "Epoch 83/1000\n",
            "27/27 [==============================] - 0s 12ms/step - loss: 5.7584e-04 - val_loss: 0.0035\n",
            "\n",
            "Epoch 00083: val_loss improved from 0.00348 to 0.00346, saving model to ./models/rlstm.h5\n",
            "Epoch 84/1000\n",
            "27/27 [==============================] - 0s 12ms/step - loss: 5.3438e-04 - val_loss: 0.0035\n",
            "\n",
            "Epoch 00084: val_loss did not improve from 0.00346\n",
            "Epoch 85/1000\n",
            "27/27 [==============================] - 0s 12ms/step - loss: 5.4585e-04 - val_loss: 0.0035\n",
            "\n",
            "Epoch 00085: val_loss did not improve from 0.00346\n",
            "Epoch 86/1000\n",
            "27/27 [==============================] - 0s 13ms/step - loss: 5.2348e-04 - val_loss: 0.0035\n",
            "\n",
            "Epoch 00086: val_loss did not improve from 0.00346\n",
            "Epoch 87/1000\n",
            "27/27 [==============================] - 0s 12ms/step - loss: 5.1685e-04 - val_loss: 0.0035\n",
            "\n",
            "Epoch 00087: val_loss did not improve from 0.00346\n",
            "Epoch 88/1000\n",
            "27/27 [==============================] - 0s 11ms/step - loss: 5.3803e-04 - val_loss: 0.0034\n",
            "\n",
            "Epoch 00088: val_loss improved from 0.00346 to 0.00336, saving model to ./models/rlstm.h5\n",
            "Epoch 89/1000\n",
            "27/27 [==============================] - 0s 12ms/step - loss: 5.3846e-04 - val_loss: 0.0034\n",
            "\n",
            "Epoch 00089: val_loss did not improve from 0.00336\n",
            "Epoch 90/1000\n",
            "27/27 [==============================] - 0s 12ms/step - loss: 5.0755e-04 - val_loss: 0.0034\n",
            "\n",
            "Epoch 00090: val_loss did not improve from 0.00336\n",
            "Epoch 91/1000\n",
            "27/27 [==============================] - 0s 12ms/step - loss: 5.0915e-04 - val_loss: 0.0033\n",
            "\n",
            "Epoch 00091: val_loss improved from 0.00336 to 0.00333, saving model to ./models/rlstm.h5\n",
            "Epoch 92/1000\n",
            "27/27 [==============================] - 0s 12ms/step - loss: 5.3904e-04 - val_loss: 0.0033\n",
            "\n",
            "Epoch 00092: val_loss improved from 0.00333 to 0.00328, saving model to ./models/rlstm.h5\n",
            "Epoch 93/1000\n",
            "27/27 [==============================] - 0s 12ms/step - loss: 6.0705e-04 - val_loss: 0.0037\n",
            "\n",
            "Epoch 00093: val_loss did not improve from 0.00328\n",
            "Epoch 94/1000\n",
            "27/27 [==============================] - 0s 12ms/step - loss: 5.1512e-04 - val_loss: 0.0034\n",
            "\n",
            "Epoch 00094: val_loss did not improve from 0.00328\n",
            "Epoch 95/1000\n",
            "27/27 [==============================] - 0s 12ms/step - loss: 5.1984e-04 - val_loss: 0.0035\n",
            "\n",
            "Epoch 00095: val_loss did not improve from 0.00328\n",
            "Epoch 96/1000\n",
            "27/27 [==============================] - 0s 12ms/step - loss: 5.5086e-04 - val_loss: 0.0033\n",
            "\n",
            "Epoch 00096: val_loss did not improve from 0.00328\n",
            "Epoch 97/1000\n",
            "27/27 [==============================] - 0s 12ms/step - loss: 5.0171e-04 - val_loss: 0.0034\n",
            "\n",
            "Epoch 00097: val_loss did not improve from 0.00328\n"
          ]
        },
        {
          "output_type": "execute_result",
          "data": {
            "text/plain": [
              "<keras.callbacks.History at 0x7f37e579e4d0>"
            ]
          },
          "metadata": {},
          "execution_count": 24
        }
      ]
    },
    {
      "cell_type": "code",
      "metadata": {
        "id": "14-W27d3WgIv",
        "colab": {
          "base_uri": "https://localhost:8080/"
        },
        "outputId": "76f2dff3-07fc-49cf-b829-a4216a40aae3"
      },
      "source": [
        "# test trained model for unseen data of the same stock that was used in the training\n",
        "predicted_stock_price = RLSTM.predict([x_test, prevention_module_data_test])\n",
        "\n",
        "# inverse transform real and predicted price to plot them in a common diagram\n",
        "predicted_stock_price = aal_scaler.inverse_transform(predicted_stock_price)\n",
        "real_stock_price = aal_scaler.inverse_transform(y_test.reshape(-1, 1))\n",
        "print(real_stock_price.shape)\n",
        "print(predicted_stock_price.shape)"
      ],
      "execution_count": 25,
      "outputs": [
        {
          "output_type": "stream",
          "name": "stdout",
          "text": [
            "(232, 1)\n",
            "(232, 1)\n"
          ]
        }
      ]
    },
    {
      "cell_type": "code",
      "metadata": {
        "colab": {
          "base_uri": "https://localhost:8080/",
          "height": 295
        },
        "id": "ALl0ivrT2Y98",
        "outputId": "4726371e-3b0a-4357-fac6-b2f51be13b20"
      },
      "source": [
        "# plot real and predicted prices for AAL Stock\n",
        "plt.plot(real_stock_price[170:200], marker = '.', color = 'black', label = 'Real Stock Price')\n",
        "plt.plot(predicted_stock_price[170:200], marker = '.', color = 'green', label = 'Predicted Stock Price')\n",
        "plt.title('Stock Price Prediction')\n",
        "plt.xlabel('Time')\n",
        "plt.ylabel('AAL Stock Price')\n",
        "plt.legend()\n",
        "plt.show()"
      ],
      "execution_count": 34,
      "outputs": [
        {
          "output_type": "display_data",
          "data": {
            "image/png": "[encoded data removed]",
            "text/plain": [
              "<Figure size 432x288 with 1 Axes>"
            ]
          },
          "metadata": {
            "needs_background": "light"
          }
        }
      ]
    },
    {
      "cell_type": "code",
      "metadata": {
        "colab": {
          "base_uri": "https://localhost:8080/"
        },
        "id": "OwxhuP0O2uF_",
        "outputId": "9f26a547-6ef1-4483-83c9-2070a2c46d38"
      },
      "source": [
        "# evaluate model for test set with AAL data\n",
        "RLSTM.evaluate([x_test, prevention_module_data_test], y_test, batch_size=32)"
      ],
      "execution_count": 27,
      "outputs": [
        {
          "output_type": "stream",
          "name": "stdout",
          "text": [
            "8/8 [==============================] - 0s 4ms/step - loss: 0.0031\n"
          ]
        },
        {
          "output_type": "execute_result",
          "data": {
            "text/plain": [
              "0.003140467219054699"
            ]
          },
          "metadata": {},
          "execution_count": 27
        }
      ]
    },
    {
      "cell_type": "code",
      "metadata": {
        "id": "0leAfRr04GVQ"
      },
      "source": [
        "# test trained model with data from a stock different than the one used in training (obviously these data are unseen)\n",
        "googl_predicted_stock_price = RLSTM.predict([x_test_googl, googl_prevention_module_data_test])\n",
        "\n",
        "# inverse transform real and predicted price to plot them in a common diagram\n",
        "googl_predicted_stock_price = googl_scaler.inverse_transform(googl_predicted_stock_price)\n",
        "googl_real_stock_price = googl_scaler.inverse_transform(y_test_googl.reshape(-1, 1))"
      ],
      "execution_count": 28,
      "outputs": []
    },
    {
      "cell_type": "code",
      "metadata": {
        "colab": {
          "base_uri": "https://localhost:8080/",
          "height": 295
        },
        "id": "wbN8MELlg6AZ",
        "outputId": "bb80cdf5-f7b6-4ef8-e4dc-265b200cf531"
      },
      "source": [
        "# plot real and predicted prices for AAL Stock\n",
        "plt.plot(googl_real_stock_price, color = 'black', label = 'Real Stock Price')\n",
        "plt.plot(googl_predicted_stock_price, color = 'green', label = 'Predicted Stock Price')\n",
        "plt.title('Stock Price Prediction')\n",
        "plt.xlabel('Time')\n",
        "plt.ylabel('GOOGL Stock Price')\n",
        "plt.legend()\n",
        "plt.show()"
      ],
      "execution_count": 29,
      "outputs": [
        {
          "output_type": "display_data",
          "data": {
            "image/png": "[encoded data removed]",
            "text/plain": [
              "<Figure size 432x288 with 1 Axes>"
            ]
          },
          "metadata": {
            "needs_background": "light"
          }
        }
      ]
    },
    {
      "cell_type": "code",
      "metadata": {
        "colab": {
          "base_uri": "https://localhost:8080/"
        },
        "id": "6r1O5Km6gpFe",
        "outputId": "55e0905c-052e-419a-d7cf-a175fc5a07d7"
      },
      "source": [
        "# evaluate model for test set with GOOGL data\n",
        "RLSTM.evaluate([x_test_googl, googl_prevention_module_data_test], y_test_googl, batch_size=32)"
      ],
      "execution_count": 30,
      "outputs": [
        {
          "output_type": "stream",
          "name": "stdout",
          "text": [
            "8/8 [==============================] - 0s 4ms/step - loss: 0.0012\n"
          ]
        },
        {
          "output_type": "execute_result",
          "data": {
            "text/plain": [
              "0.0012184717925265431"
            ]
          },
          "metadata": {},
          "execution_count": 30
        }
      ]
    },
    {
      "cell_type": "code",
      "metadata": {
        "colab": {
          "base_uri": "https://localhost:8080/"
        },
        "id": "9oyceQl9hB-y",
        "outputId": "ac6db2a9-ec84-4905-8646-531bd5bf97a8"
      },
      "source": [
        "# calculate the 3 below errors for evaluation of the model\n",
        "# these metrics were used also in the paper for where we got the idea of the above model\n",
        "mse = MeanSquaredError()\n",
        "mae = MeanAbsoluteError()\n",
        "mape = MeanAbsolutePercentageError()\n",
        "\n",
        "# average squared difference between the forecasted and actual values, stability of the model\n",
        "print('AAL MSE:', mse(real_stock_price, predicted_stock_price).numpy())\n",
        "print('GOOGL MSE:', mse(googl_real_stock_price, googl_predicted_stock_price).numpy())\n",
        "\n",
        "print('\\n')\n",
        "\n",
        "# average value of absolute error, which can reflect the actual situation of predicted value error\n",
        "print('AAL MAE:', mae(real_stock_price, predicted_stock_price).numpy())\n",
        "print('GOOGL MAE:', mae(googl_real_stock_price, googl_predicted_stock_price).numpy())\n",
        "\n",
        "print('\\n')\n",
        "\n",
        "# prediction deviation proportion in terms of the real value. A metric for the forecast accuracy\n",
        "print('AAL MAPE:', mape(real_stock_price, predicted_stock_price).numpy())\n",
        "print('GOOGL MAPE:', mape(googl_real_stock_price, googl_predicted_stock_price).numpy())"
      ],
      "execution_count": 31,
      "outputs": [
        {
          "output_type": "stream",
          "name": "stdout",
          "text": [
            "AAL MSE: 1.0311238\n",
            "GOOGL MSE: 155.88512\n",
            "\n",
            "\n",
            "AAL MAE: 0.7512699\n",
            "GOOGL MAE: 8.819756\n",
            "\n",
            "\n",
            "AAL MAPE: 1.5700872\n",
            "GOOGL MAPE: 0.8985434\n"
          ]
        }
      ]
    },
    {
      "cell_type": "code",
      "metadata": {
        "id": "24cu7KLTkW17"
      },
      "source": [
        ""
      ],
      "execution_count": 31,
      "outputs": []
    }
  ]
}