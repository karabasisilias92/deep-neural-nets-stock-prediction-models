{
  "nbformat": 4,
  "nbformat_minor": 0,
  "metadata": {
    "colab": {
      "name": "lstm_same_stock.ipynb",
      "provenance": []
    },
    "kernelspec": {
      "name": "python3",
      "display_name": "Python 3"
    },
    "language_info": {
      "name": "python"
    }
  },
  "cells": [
    {
      "cell_type": "code",
      "metadata": {
        "colab": {
          "base_uri": "https://localhost:8080/"
        },
        "id": "25KzGxDjl0se",
        "outputId": "8bb55955-970e-4c8e-f69e-5af5d974e138"
      },
      "source": [
        "#imports\n",
        "import numpy as np\n",
        "import matplotlib.pyplot as plt\n",
        "import pandas as pd\n",
        "\n",
        "from keras.models import Sequential\n",
        "from keras.layers import Dense\n",
        "from keras.layers import LSTM\n",
        "from keras.layers import Dropout\n",
        "from sklearn.preprocessing import MinMaxScaler\n",
        "from google.colab import drive\n",
        "from tensorflow.keras.losses import MeanSquaredError, MeanAbsoluteError, MeanAbsolutePercentageError\n",
        "\n",
        "from google.colab import drive\n",
        "drive.mount('/content/gdrive')\n"
      ],
      "execution_count": 1,
      "outputs": [
        {
          "output_type": "stream",
          "name": "stdout",
          "text": [
            "Drive already mounted at /content/gdrive; to attempt to forcibly remount, call drive.mount(\"/content/gdrive\", force_remount=True).\n"
          ]
        }
      ]
    },
    {
      "cell_type": "code",
      "metadata": {
        "id": "FagjFNIDl5hc"
      },
      "source": [
        "#read data for all the stocks\n",
        "df=pd.read_csv(\"/content/gdrive/MyDrive/all_stocks_5yr.csv\")\n",
        "#get the data of the stock with the name \"AAL\"\n",
        "aal_dataset = df[df.Name == \"AAL\"]\n",
        "\n",
        "#we split the dataset into training, validation and testing subset\n",
        "aal_training_len = round(len(aal_dataset) * 0.7)\n",
        "aal_val_len = round(len(aal_dataset) * 0.1)\n",
        "\n",
        "aal_training_set = aal_dataset.iloc[:aal_training_len, 4:5].values\n",
        "aal_val_set = aal_dataset.iloc[aal_training_len:aal_training_len + aal_val_len, 4:5].values\n",
        "aal_testing_set = aal_dataset.iloc[aal_training_len + aal_val_len:, 4:5].values\n",
        "\n",
        "#we create a MinMaxScaler\n",
        "aal_scaler = MinMaxScaler(feature_range=(0, 1))\n",
        "scaled_train_data = aal_scaler.fit_transform(aal_training_set.reshape(-1,1))\n",
        "scaled_validation_data = aal_scaler.fit_transform(aal_val_set.reshape(-1,1))\n",
        "scaled_test_data = aal_scaler.fit_transform(aal_testing_set.reshape(-1,1))\n",
        "\n",
        "window = 20\n",
        "X_train = []\n",
        "y_train = []\n",
        "for i in range(window, len(scaled_train_data)):\n",
        "    X_train.append(scaled_train_data[i-window:i, 0])\n",
        "    y_train.append(scaled_train_data[i, 0])\n",
        "X_train, y_train = np.array(X_train), np.array(y_train)\n",
        "\n",
        "X_train = np.reshape(X_train, (X_train.shape[0], X_train.shape[1], 1))\n",
        "\n",
        "X_val = []\n",
        "y_val = []\n",
        "for i in range(window, len(scaled_validation_data)):\n",
        "    X_val.append(scaled_validation_data[i-window:i, 0])\n",
        "    y_val.append(scaled_validation_data[i, 0])\n",
        "X_val, y_val = np.array(X_val), np.array(y_val)\n",
        "\n",
        "X_val = np.reshape(X_val, (X_val.shape[0], X_val.shape[1], 1))\n"
      ],
      "execution_count": 2,
      "outputs": []
    },
    {
      "cell_type": "code",
      "metadata": {
        "colab": {
          "base_uri": "https://localhost:8080/"
        },
        "id": "CczgkGx51JLq",
        "outputId": "a02f2989-546c-4f71-8c73-754903c11984"
      },
      "source": [
        "model = Sequential()\n",
        "\n",
        "model.add(LSTM(units = 50, return_sequences = True, input_shape = (X_train.shape[1], 1)))\n",
        "model.add(Dropout(0.2))\n",
        "\n",
        "model.add(LSTM(units = 50, return_sequences = True))\n",
        "model.add(Dropout(0.2))\n",
        "\n",
        "model.add(LSTM(units = 50, return_sequences = True))\n",
        "model.add(Dropout(0.2))\n",
        "\n",
        "model.add(LSTM(units = 50))\n",
        "model.add(Dropout(0.2))\n",
        "\n",
        "model.add(Dense(units = 1))\n",
        "\n",
        "model.compile(optimizer = 'adam', loss = 'mean_squared_error')\n",
        "\n",
        "model.fit(X_train, y_train,validation_data = (X_val, y_val), epochs = 100, batch_size = 32)"
      ],
      "execution_count": 3,
      "outputs": [
        {
          "output_type": "stream",
          "name": "stdout",
          "text": [
            "Epoch 1/100\n",
            "27/27 [==============================] - 9s 112ms/step - loss: 0.0733 - val_loss: 0.0216\n",
            "Epoch 2/100\n",
            "27/27 [==============================] - 1s 48ms/step - loss: 0.0121 - val_loss: 0.0221\n",
            "Epoch 3/100\n",
            "27/27 [==============================] - 1s 46ms/step - loss: 0.0079 - val_loss: 0.0215\n",
            "Epoch 4/100\n",
            "27/27 [==============================] - 1s 47ms/step - loss: 0.0075 - val_loss: 0.0266\n",
            "Epoch 5/100\n",
            "27/27 [==============================] - 1s 47ms/step - loss: 0.0077 - val_loss: 0.0235\n",
            "Epoch 6/100\n",
            "27/27 [==============================] - 1s 47ms/step - loss: 0.0075 - val_loss: 0.0192\n",
            "Epoch 7/100\n",
            "27/27 [==============================] - 1s 47ms/step - loss: 0.0069 - val_loss: 0.0198\n",
            "Epoch 8/100\n",
            "27/27 [==============================] - 1s 46ms/step - loss: 0.0068 - val_loss: 0.0231\n",
            "Epoch 9/100\n",
            "27/27 [==============================] - 1s 46ms/step - loss: 0.0065 - val_loss: 0.0221\n",
            "Epoch 10/100\n",
            "27/27 [==============================] - 1s 47ms/step - loss: 0.0063 - val_loss: 0.0222\n",
            "Epoch 11/100\n",
            "27/27 [==============================] - 1s 46ms/step - loss: 0.0065 - val_loss: 0.0193\n",
            "Epoch 12/100\n",
            "27/27 [==============================] - 1s 50ms/step - loss: 0.0063 - val_loss: 0.0184\n",
            "Epoch 13/100\n",
            "27/27 [==============================] - 1s 47ms/step - loss: 0.0058 - val_loss: 0.0186\n",
            "Epoch 14/100\n",
            "27/27 [==============================] - 1s 48ms/step - loss: 0.0064 - val_loss: 0.0223\n",
            "Epoch 15/100\n",
            "27/27 [==============================] - 1s 48ms/step - loss: 0.0061 - val_loss: 0.0187\n",
            "Epoch 16/100\n",
            "27/27 [==============================] - 1s 47ms/step - loss: 0.0065 - val_loss: 0.0169\n",
            "Epoch 17/100\n",
            "27/27 [==============================] - 1s 47ms/step - loss: 0.0062 - val_loss: 0.0219\n",
            "Epoch 18/100\n",
            "27/27 [==============================] - 1s 49ms/step - loss: 0.0053 - val_loss: 0.0180\n",
            "Epoch 19/100\n",
            "27/27 [==============================] - 1s 48ms/step - loss: 0.0053 - val_loss: 0.0177\n",
            "Epoch 20/100\n",
            "27/27 [==============================] - 1s 48ms/step - loss: 0.0053 - val_loss: 0.0162\n",
            "Epoch 21/100\n",
            "27/27 [==============================] - 1s 47ms/step - loss: 0.0055 - val_loss: 0.0158\n",
            "Epoch 22/100\n",
            "27/27 [==============================] - 1s 45ms/step - loss: 0.0057 - val_loss: 0.0190\n",
            "Epoch 23/100\n",
            "27/27 [==============================] - 1s 47ms/step - loss: 0.0055 - val_loss: 0.0189\n",
            "Epoch 24/100\n",
            "27/27 [==============================] - 1s 46ms/step - loss: 0.0048 - val_loss: 0.0173\n",
            "Epoch 25/100\n",
            "27/27 [==============================] - 1s 47ms/step - loss: 0.0060 - val_loss: 0.0211\n",
            "Epoch 26/100\n",
            "27/27 [==============================] - 1s 47ms/step - loss: 0.0052 - val_loss: 0.0144\n",
            "Epoch 27/100\n",
            "27/27 [==============================] - 1s 47ms/step - loss: 0.0050 - val_loss: 0.0163\n",
            "Epoch 28/100\n",
            "27/27 [==============================] - 1s 47ms/step - loss: 0.0050 - val_loss: 0.0149\n",
            "Epoch 29/100\n",
            "27/27 [==============================] - 1s 47ms/step - loss: 0.0050 - val_loss: 0.0141\n",
            "Epoch 30/100\n",
            "27/27 [==============================] - 1s 48ms/step - loss: 0.0054 - val_loss: 0.0153\n",
            "Epoch 31/100\n",
            "27/27 [==============================] - 1s 49ms/step - loss: 0.0046 - val_loss: 0.0185\n",
            "Epoch 32/100\n",
            "27/27 [==============================] - 1s 48ms/step - loss: 0.0058 - val_loss: 0.0133\n",
            "Epoch 33/100\n",
            "27/27 [==============================] - 1s 47ms/step - loss: 0.0043 - val_loss: 0.0124\n",
            "Epoch 34/100\n",
            "27/27 [==============================] - 1s 47ms/step - loss: 0.0046 - val_loss: 0.0158\n",
            "Epoch 35/100\n",
            "27/27 [==============================] - 1s 46ms/step - loss: 0.0042 - val_loss: 0.0131\n",
            "Epoch 36/100\n",
            "27/27 [==============================] - 1s 46ms/step - loss: 0.0046 - val_loss: 0.0120\n",
            "Epoch 37/100\n",
            "27/27 [==============================] - 1s 47ms/step - loss: 0.0042 - val_loss: 0.0136\n",
            "Epoch 38/100\n",
            "27/27 [==============================] - 1s 47ms/step - loss: 0.0041 - val_loss: 0.0115\n",
            "Epoch 39/100\n",
            "27/27 [==============================] - 1s 46ms/step - loss: 0.0048 - val_loss: 0.0111\n",
            "Epoch 40/100\n",
            "27/27 [==============================] - 1s 47ms/step - loss: 0.0044 - val_loss: 0.0112\n",
            "Epoch 41/100\n",
            "27/27 [==============================] - 1s 48ms/step - loss: 0.0038 - val_loss: 0.0117\n",
            "Epoch 42/100\n",
            "27/27 [==============================] - 1s 48ms/step - loss: 0.0038 - val_loss: 0.0114\n",
            "Epoch 43/100\n",
            "27/27 [==============================] - 1s 47ms/step - loss: 0.0039 - val_loss: 0.0112\n",
            "Epoch 44/100\n",
            "27/27 [==============================] - 1s 46ms/step - loss: 0.0046 - val_loss: 0.0107\n",
            "Epoch 45/100\n",
            "27/27 [==============================] - 1s 46ms/step - loss: 0.0045 - val_loss: 0.0140\n",
            "Epoch 46/100\n",
            "27/27 [==============================] - 1s 47ms/step - loss: 0.0042 - val_loss: 0.0103\n",
            "Epoch 47/100\n",
            "27/27 [==============================] - 1s 46ms/step - loss: 0.0041 - val_loss: 0.0110\n",
            "Epoch 48/100\n",
            "27/27 [==============================] - 1s 47ms/step - loss: 0.0037 - val_loss: 0.0101\n",
            "Epoch 49/100\n",
            "27/27 [==============================] - 1s 46ms/step - loss: 0.0039 - val_loss: 0.0104\n",
            "Epoch 50/100\n",
            "27/27 [==============================] - 1s 47ms/step - loss: 0.0037 - val_loss: 0.0095\n",
            "Epoch 51/100\n",
            "27/27 [==============================] - 1s 46ms/step - loss: 0.0033 - val_loss: 0.0121\n",
            "Epoch 52/100\n",
            "27/27 [==============================] - 1s 47ms/step - loss: 0.0034 - val_loss: 0.0107\n",
            "Epoch 53/100\n",
            "27/27 [==============================] - 1s 48ms/step - loss: 0.0034 - val_loss: 0.0095\n",
            "Epoch 54/100\n",
            "27/27 [==============================] - 1s 48ms/step - loss: 0.0032 - val_loss: 0.0096\n",
            "Epoch 55/100\n",
            "27/27 [==============================] - 1s 49ms/step - loss: 0.0030 - val_loss: 0.0090\n",
            "Epoch 56/100\n",
            "27/27 [==============================] - 1s 47ms/step - loss: 0.0031 - val_loss: 0.0088\n",
            "Epoch 57/100\n",
            "27/27 [==============================] - 1s 49ms/step - loss: 0.0030 - val_loss: 0.0100\n",
            "Epoch 58/100\n",
            "27/27 [==============================] - 1s 48ms/step - loss: 0.0034 - val_loss: 0.0100\n",
            "Epoch 59/100\n",
            "27/27 [==============================] - 1s 48ms/step - loss: 0.0034 - val_loss: 0.0083\n",
            "Epoch 60/100\n",
            "27/27 [==============================] - 1s 48ms/step - loss: 0.0031 - val_loss: 0.0084\n",
            "Epoch 61/100\n",
            "27/27 [==============================] - 1s 48ms/step - loss: 0.0028 - val_loss: 0.0098\n",
            "Epoch 62/100\n",
            "27/27 [==============================] - 1s 47ms/step - loss: 0.0028 - val_loss: 0.0091\n",
            "Epoch 63/100\n",
            "27/27 [==============================] - 1s 46ms/step - loss: 0.0027 - val_loss: 0.0093\n",
            "Epoch 64/100\n",
            "27/27 [==============================] - 1s 47ms/step - loss: 0.0032 - val_loss: 0.0080\n",
            "Epoch 65/100\n",
            "27/27 [==============================] - 1s 47ms/step - loss: 0.0028 - val_loss: 0.0080\n",
            "Epoch 66/100\n",
            "27/27 [==============================] - 1s 49ms/step - loss: 0.0027 - val_loss: 0.0098\n",
            "Epoch 67/100\n",
            "27/27 [==============================] - 1s 47ms/step - loss: 0.0027 - val_loss: 0.0076\n",
            "Epoch 68/100\n",
            "27/27 [==============================] - 1s 47ms/step - loss: 0.0028 - val_loss: 0.0087\n",
            "Epoch 69/100\n",
            "27/27 [==============================] - 1s 47ms/step - loss: 0.0029 - val_loss: 0.0072\n",
            "Epoch 70/100\n",
            "27/27 [==============================] - 1s 48ms/step - loss: 0.0031 - val_loss: 0.0097\n",
            "Epoch 71/100\n",
            "27/27 [==============================] - 1s 48ms/step - loss: 0.0026 - val_loss: 0.0074\n",
            "Epoch 72/100\n",
            "27/27 [==============================] - 1s 49ms/step - loss: 0.0027 - val_loss: 0.0082\n",
            "Epoch 73/100\n",
            "27/27 [==============================] - 1s 48ms/step - loss: 0.0026 - val_loss: 0.0070\n",
            "Epoch 74/100\n",
            "27/27 [==============================] - 1s 48ms/step - loss: 0.0027 - val_loss: 0.0069\n",
            "Epoch 75/100\n",
            "27/27 [==============================] - 1s 47ms/step - loss: 0.0027 - val_loss: 0.0077\n",
            "Epoch 76/100\n",
            "27/27 [==============================] - 1s 48ms/step - loss: 0.0024 - val_loss: 0.0068\n",
            "Epoch 77/100\n",
            "27/27 [==============================] - 1s 47ms/step - loss: 0.0023 - val_loss: 0.0066\n",
            "Epoch 78/100\n",
            "27/27 [==============================] - 1s 47ms/step - loss: 0.0025 - val_loss: 0.0077\n",
            "Epoch 79/100\n",
            "27/27 [==============================] - 1s 46ms/step - loss: 0.0026 - val_loss: 0.0076\n",
            "Epoch 80/100\n",
            "27/27 [==============================] - 1s 46ms/step - loss: 0.0024 - val_loss: 0.0065\n",
            "Epoch 81/100\n",
            "27/27 [==============================] - 1s 47ms/step - loss: 0.0023 - val_loss: 0.0073\n",
            "Epoch 82/100\n",
            "27/27 [==============================] - 1s 47ms/step - loss: 0.0026 - val_loss: 0.0062\n",
            "Epoch 83/100\n",
            "27/27 [==============================] - 1s 48ms/step - loss: 0.0026 - val_loss: 0.0082\n",
            "Epoch 84/100\n",
            "27/27 [==============================] - 1s 47ms/step - loss: 0.0023 - val_loss: 0.0061\n",
            "Epoch 85/100\n",
            "27/27 [==============================] - 1s 48ms/step - loss: 0.0024 - val_loss: 0.0058\n",
            "Epoch 86/100\n",
            "27/27 [==============================] - 1s 47ms/step - loss: 0.0027 - val_loss: 0.0061\n",
            "Epoch 87/100\n",
            "27/27 [==============================] - 1s 48ms/step - loss: 0.0021 - val_loss: 0.0073\n",
            "Epoch 88/100\n",
            "27/27 [==============================] - 1s 48ms/step - loss: 0.0024 - val_loss: 0.0062\n",
            "Epoch 89/100\n",
            "27/27 [==============================] - 1s 47ms/step - loss: 0.0021 - val_loss: 0.0061\n",
            "Epoch 90/100\n",
            "27/27 [==============================] - 1s 50ms/step - loss: 0.0021 - val_loss: 0.0057\n",
            "Epoch 91/100\n",
            "27/27 [==============================] - 1s 48ms/step - loss: 0.0023 - val_loss: 0.0056\n",
            "Epoch 92/100\n",
            "27/27 [==============================] - 1s 48ms/step - loss: 0.0021 - val_loss: 0.0067\n",
            "Epoch 93/100\n",
            "27/27 [==============================] - 1s 48ms/step - loss: 0.0020 - val_loss: 0.0056\n",
            "Epoch 94/100\n",
            "27/27 [==============================] - 1s 49ms/step - loss: 0.0024 - val_loss: 0.0054\n",
            "Epoch 95/100\n",
            "27/27 [==============================] - 1s 48ms/step - loss: 0.0021 - val_loss: 0.0060\n",
            "Epoch 96/100\n",
            "27/27 [==============================] - 1s 48ms/step - loss: 0.0022 - val_loss: 0.0054\n",
            "Epoch 97/100\n",
            "27/27 [==============================] - 1s 48ms/step - loss: 0.0021 - val_loss: 0.0057\n",
            "Epoch 98/100\n",
            "27/27 [==============================] - 1s 48ms/step - loss: 0.0022 - val_loss: 0.0055\n",
            "Epoch 99/100\n",
            "27/27 [==============================] - 1s 49ms/step - loss: 0.0022 - val_loss: 0.0052\n",
            "Epoch 100/100\n",
            "27/27 [==============================] - 1s 52ms/step - loss: 0.0021 - val_loss: 0.0053\n"
          ]
        },
        {
          "output_type": "execute_result",
          "data": {
            "text/plain": [
              "<keras.callbacks.History at 0x7fa0cbc9ce50>"
            ]
          },
          "metadata": {},
          "execution_count": 3
        }
      ]
    },
    {
      "cell_type": "code",
      "metadata": {
        "colab": {
          "base_uri": "https://localhost:8080/"
        },
        "id": "38x5eAkU2FSW",
        "outputId": "744908a9-6190-446f-ad29-ed2b73cffdfe"
      },
      "source": [
        "aal_training_set = pd.DataFrame(aal_training_set)\n",
        "aal_testing_set = pd.DataFrame(aal_testing_set)\n",
        "\n",
        "dataset_total = pd.concat((aal_training_set, aal_testing_set), axis=0)\n",
        "inputs = dataset_total[len(dataset_total) - len(aal_testing_set) - window:].values\n",
        "inputs = inputs.reshape(-1, 1)\n",
        "inputs = aal_scaler.transform(inputs)\n",
        "\n",
        "aal_X_test = []\n",
        "for i in range(window, len(inputs)):\n",
        "    aal_X_test.append(inputs[i-window:i, 0])\n",
        "aal_X_test = np.array(aal_X_test)\n",
        "aal_X_test = np.reshape(aal_X_test, (aal_X_test.shape[0], aal_X_test.shape[1], 1))\n",
        "aal_predicted_stock_price = model.predict(aal_X_test)\n",
        "aal_predicted_stock_price = aal_scaler.inverse_transform(aal_predicted_stock_price)\n",
        "#print(aal_predicted_stock_price)\n",
        "print(len(aal_predicted_stock_price))"
      ],
      "execution_count": 4,
      "outputs": [
        {
          "output_type": "stream",
          "name": "stdout",
          "text": [
            "252\n"
          ]
        }
      ]
    },
    {
      "cell_type": "code",
      "metadata": {
        "colab": {
          "base_uri": "https://localhost:8080/",
          "height": 294
        },
        "id": "U7iK6i5T1M3w",
        "outputId": "55a29b73-5809-41b0-b251-0d721d7e70b2"
      },
      "source": [
        "plt.plot(aal_testing_set, color = 'black', label = 'AAL Stock Price')\n",
        "plt.plot(aal_predicted_stock_price, color = 'green', label = 'Predicted AAL Stock Price')\n",
        "plt.title('AAL Stock Price Prediction')\n",
        "plt.xlabel('Time')\n",
        "plt.ylabel('AAL Stock Price')\n",
        "plt.legend()\n",
        "plt.show()"
      ],
      "execution_count": 5,
      "outputs": [
        {
          "output_type": "display_data",
          "data": {
            "image/png": "[encoded data removed]",
            "text/plain": [
              "<Figure size 432x288 with 1 Axes>"
            ]
          },
          "metadata": {
            "needs_background": "light"
          }
        }
      ]
    },
    {
      "cell_type": "code",
      "metadata": {
        "colab": {
          "base_uri": "https://localhost:8080/"
        },
        "id": "ifHnJSU53GoH",
        "outputId": "a875a648-0e9b-4e1f-cbf3-6f0030294aa1"
      },
      "source": [
        "mse = MeanSquaredError()\n",
        "mae = MeanAbsoluteError()\n",
        "mape = MeanAbsolutePercentageError()\n",
        "\n",
        "# average squared difference between the forecasted and actual values, stability of the model\n",
        "print('AAL MSE', mse(aal_testing_set, aal_predicted_stock_price).numpy())\n",
        "\n",
        "# average value of absolute error, which can reflect the actual situation of predicted value error\n",
        "print('AAL MAE', mae(aal_testing_set, aal_predicted_stock_price).numpy())\n",
        "\n",
        "# prediction deviation proportion in terms of the real value. A metric for the forecast accuracy\n",
        "print('AAL MAPE', mape(aal_testing_set, aal_predicted_stock_price).numpy())"
      ],
      "execution_count": 6,
      "outputs": [
        {
          "output_type": "stream",
          "name": "stdout",
          "text": [
            "AAL MSE 3.1979373\n",
            "AAL MAE 1.1448756\n",
            "AAL MAPE 2.4093962\n"
          ]
        }
      ]
    }
  ]
}