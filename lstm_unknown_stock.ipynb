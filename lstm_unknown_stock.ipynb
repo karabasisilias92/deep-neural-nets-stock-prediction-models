{
  "nbformat": 4,
  "nbformat_minor": 0,
  "metadata": {
    "colab": {
      "name": "lstm_unknown_stock.ipynb",
      "provenance": [],
      "collapsed_sections": []
    },
    "kernelspec": {
      "name": "python3",
      "display_name": "Python 3"
    },
    "language_info": {
      "name": "python"
    }
  },
  "cells": [
    {
      "cell_type": "code",
      "metadata": {
        "colab": {
          "base_uri": "https://localhost:8080/"
        },
        "id": "7BoB1rrfEJs6",
        "outputId": "9d72dcef-346b-44a4-ab27-0ccef120cbc4"
      },
      "source": [
        "#imports\n",
        "import numpy as np\n",
        "import matplotlib.pyplot as plt\n",
        "import pandas as pd\n",
        "\n",
        "from keras.models import Sequential\n",
        "from keras.layers import Dense\n",
        "from keras.layers import LSTM\n",
        "from keras.layers import Dropout\n",
        "from sklearn.preprocessing import MinMaxScaler\n",
        "from google.colab import drive\n",
        "from tensorflow.keras.losses import MeanSquaredError, MeanAbsoluteError, MeanAbsolutePercentageError\n",
        "\n",
        "drive.mount('/content/gdrive')\n"
      ],
      "execution_count": 1,
      "outputs": [
        {
          "output_type": "stream",
          "name": "stdout",
          "text": [
            "Mounted at /content/gdrive\n"
          ]
        }
      ]
    },
    {
      "cell_type": "code",
      "metadata": {
        "id": "2CYvwpXSZCCH"
      },
      "source": [
        "#read data for all the stocks\n",
        "df=pd.read_csv(\"/content/gdrive/MyDrive/all_stocks_5yr.csv\")\n",
        "#get the data of the stock with the name \"AAL\"\n",
        "aal_dataset = df[df.Name == \"AAL\"]\n",
        "\n",
        "#get the length of the aal_dataset and the values of the close price\n",
        "aal_training_len = round(len(aal_dataset))\n",
        "aal_training_set = aal_dataset.iloc[:, 4:5].values\n"
      ],
      "execution_count": 30,
      "outputs": []
    },
    {
      "cell_type": "code",
      "metadata": {
        "id": "dI_jO1uOEgcs"
      },
      "source": [
        "#we create a MixMaxScaler in order to transform the values the training dataset \n",
        "sc = MinMaxScaler(feature_range = (0, 1))\n",
        "aal_training_set_scaled = sc.fit_transform(aal_training_set.reshape(-1,1))\n"
      ],
      "execution_count": 31,
      "outputs": []
    },
    {
      "cell_type": "code",
      "metadata": {
        "id": "waZCGBm5EoAf"
      },
      "source": [
        "aal_X_train = []\n",
        "aal_y_train = []\n",
        "\n",
        "#we use a window of 20 in order to create the the input and output\n",
        "window = 20\n",
        "\n",
        "for i in range(window, aal_training_len):\n",
        "    aal_X_train.append(aal_training_set_scaled[i-window:i, 0])\n",
        "    aal_y_train.append(aal_training_set_scaled[i, 0])\n",
        "aal_X_train, aal_y_train = np.array(aal_X_train), np.array(aal_y_train)\n",
        "\n",
        "aal_X_train = np.reshape(aal_X_train, (aal_X_train.shape[0], aal_X_train.shape[1], 1))\n"
      ],
      "execution_count": 32,
      "outputs": []
    },
    {
      "cell_type": "code",
      "metadata": {
        "id": "vUu12V0SEwxs",
        "colab": {
          "base_uri": "https://localhost:8080/"
        },
        "outputId": "b0b7fc39-e5a1-4d7e-d783-b5269aeabfda"
      },
      "source": [
        "#we create our model\n",
        "model = Sequential()\n",
        "\n",
        "model.add(LSTM(units = 50, return_sequences = True, input_shape = (aal_X_train.shape[1], 1)))\n",
        "model.add(Dropout(0.2))\n",
        "\n",
        "model.add(LSTM(units = 50, return_sequences = True))\n",
        "model.add(Dropout(0.2))\n",
        "\n",
        "model.add(LSTM(units = 50, return_sequences = True))\n",
        "model.add(Dropout(0.2))\n",
        "\n",
        "model.add(LSTM(units = 50))\n",
        "model.add(Dropout(0.2))\n",
        "\n",
        "model.add(Dense(units = 1))\n",
        "\n",
        "model.compile(optimizer = 'adam', loss = 'mean_squared_error')\n",
        "\n",
        "model.fit(aal_X_train, aal_y_train, epochs = 100, batch_size = 32)"
      ],
      "execution_count": 33,
      "outputs": [
        {
          "output_type": "stream",
          "name": "stdout",
          "text": [
            "Epoch 1/100\n",
            "39/39 [==============================] - 7s 41ms/step - loss: 0.0591\n",
            "Epoch 2/100\n",
            "39/39 [==============================] - 2s 42ms/step - loss: 0.0097\n",
            "Epoch 3/100\n",
            "39/39 [==============================] - 2s 41ms/step - loss: 0.0085\n",
            "Epoch 4/100\n",
            "39/39 [==============================] - 2s 42ms/step - loss: 0.0083\n",
            "Epoch 5/100\n",
            "39/39 [==============================] - 2s 42ms/step - loss: 0.0066\n",
            "Epoch 6/100\n",
            "39/39 [==============================] - 2s 42ms/step - loss: 0.0071\n",
            "Epoch 7/100\n",
            "39/39 [==============================] - 2s 42ms/step - loss: 0.0077\n",
            "Epoch 8/100\n",
            "39/39 [==============================] - 2s 41ms/step - loss: 0.0068\n",
            "Epoch 9/100\n",
            "39/39 [==============================] - 2s 43ms/step - loss: 0.0060\n",
            "Epoch 10/100\n",
            "39/39 [==============================] - 2s 41ms/step - loss: 0.0064\n",
            "Epoch 11/100\n",
            "39/39 [==============================] - 2s 42ms/step - loss: 0.0053\n",
            "Epoch 12/100\n",
            "39/39 [==============================] - 2s 42ms/step - loss: 0.0059\n",
            "Epoch 13/100\n",
            "39/39 [==============================] - 2s 42ms/step - loss: 0.0069\n",
            "Epoch 14/100\n",
            "39/39 [==============================] - 2s 40ms/step - loss: 0.0062\n",
            "Epoch 15/100\n",
            "39/39 [==============================] - 2s 40ms/step - loss: 0.0053\n",
            "Epoch 16/100\n",
            "39/39 [==============================] - 2s 42ms/step - loss: 0.0058\n",
            "Epoch 17/100\n",
            "39/39 [==============================] - 2s 42ms/step - loss: 0.0057\n",
            "Epoch 18/100\n",
            "39/39 [==============================] - 2s 42ms/step - loss: 0.0053\n",
            "Epoch 19/100\n",
            "39/39 [==============================] - 2s 43ms/step - loss: 0.0049\n",
            "Epoch 20/100\n",
            "39/39 [==============================] - 2s 42ms/step - loss: 0.0049\n",
            "Epoch 21/100\n",
            "39/39 [==============================] - 2s 42ms/step - loss: 0.0052\n",
            "Epoch 22/100\n",
            "39/39 [==============================] - 2s 42ms/step - loss: 0.0048\n",
            "Epoch 23/100\n",
            "39/39 [==============================] - 2s 42ms/step - loss: 0.0044\n",
            "Epoch 24/100\n",
            "39/39 [==============================] - 2s 43ms/step - loss: 0.0048\n",
            "Epoch 25/100\n",
            "39/39 [==============================] - 2s 41ms/step - loss: 0.0046\n",
            "Epoch 26/100\n",
            "39/39 [==============================] - 2s 42ms/step - loss: 0.0047\n",
            "Epoch 27/100\n",
            "39/39 [==============================] - 2s 43ms/step - loss: 0.0042\n",
            "Epoch 28/100\n",
            "39/39 [==============================] - 2s 41ms/step - loss: 0.0044\n",
            "Epoch 29/100\n",
            "39/39 [==============================] - 2s 42ms/step - loss: 0.0041\n",
            "Epoch 30/100\n",
            "39/39 [==============================] - 2s 43ms/step - loss: 0.0040\n",
            "Epoch 31/100\n",
            "39/39 [==============================] - 2s 42ms/step - loss: 0.0040\n",
            "Epoch 32/100\n",
            "39/39 [==============================] - 2s 44ms/step - loss: 0.0043\n",
            "Epoch 33/100\n",
            "39/39 [==============================] - 2s 41ms/step - loss: 0.0040\n",
            "Epoch 34/100\n",
            "39/39 [==============================] - 2s 42ms/step - loss: 0.0039\n",
            "Epoch 35/100\n",
            "39/39 [==============================] - 2s 44ms/step - loss: 0.0035\n",
            "Epoch 36/100\n",
            "39/39 [==============================] - 2s 41ms/step - loss: 0.0039\n",
            "Epoch 37/100\n",
            "39/39 [==============================] - 2s 42ms/step - loss: 0.0039\n",
            "Epoch 38/100\n",
            "39/39 [==============================] - 2s 41ms/step - loss: 0.0038\n",
            "Epoch 39/100\n",
            "39/39 [==============================] - 2s 42ms/step - loss: 0.0033\n",
            "Epoch 40/100\n",
            "39/39 [==============================] - 2s 41ms/step - loss: 0.0036\n",
            "Epoch 41/100\n",
            "39/39 [==============================] - 2s 43ms/step - loss: 0.0034\n",
            "Epoch 42/100\n",
            "39/39 [==============================] - 2s 41ms/step - loss: 0.0036\n",
            "Epoch 43/100\n",
            "39/39 [==============================] - 2s 42ms/step - loss: 0.0032\n",
            "Epoch 44/100\n",
            "39/39 [==============================] - 2s 41ms/step - loss: 0.0031\n",
            "Epoch 45/100\n",
            "39/39 [==============================] - 2s 41ms/step - loss: 0.0029\n",
            "Epoch 46/100\n",
            "39/39 [==============================] - 2s 41ms/step - loss: 0.0030\n",
            "Epoch 47/100\n",
            "39/39 [==============================] - 2s 42ms/step - loss: 0.0032\n",
            "Epoch 48/100\n",
            "39/39 [==============================] - 2s 41ms/step - loss: 0.0028\n",
            "Epoch 49/100\n",
            "39/39 [==============================] - 2s 44ms/step - loss: 0.0031\n",
            "Epoch 50/100\n",
            "39/39 [==============================] - 2s 41ms/step - loss: 0.0028\n",
            "Epoch 51/100\n",
            "39/39 [==============================] - 2s 42ms/step - loss: 0.0030\n",
            "Epoch 52/100\n",
            "39/39 [==============================] - 2s 42ms/step - loss: 0.0027\n",
            "Epoch 53/100\n",
            "39/39 [==============================] - 2s 45ms/step - loss: 0.0024\n",
            "Epoch 54/100\n",
            "39/39 [==============================] - 2s 43ms/step - loss: 0.0026\n",
            "Epoch 55/100\n",
            "39/39 [==============================] - 2s 46ms/step - loss: 0.0026\n",
            "Epoch 56/100\n",
            "39/39 [==============================] - 2s 41ms/step - loss: 0.0026\n",
            "Epoch 57/100\n",
            "39/39 [==============================] - 2s 41ms/step - loss: 0.0025\n",
            "Epoch 58/100\n",
            "39/39 [==============================] - 2s 42ms/step - loss: 0.0023\n",
            "Epoch 59/100\n",
            "39/39 [==============================] - 2s 42ms/step - loss: 0.0026\n",
            "Epoch 60/100\n",
            "39/39 [==============================] - 2s 43ms/step - loss: 0.0024\n",
            "Epoch 61/100\n",
            "39/39 [==============================] - 2s 42ms/step - loss: 0.0022\n",
            "Epoch 62/100\n",
            "39/39 [==============================] - 2s 41ms/step - loss: 0.0022\n",
            "Epoch 63/100\n",
            "39/39 [==============================] - 2s 41ms/step - loss: 0.0021\n",
            "Epoch 64/100\n",
            "39/39 [==============================] - 2s 41ms/step - loss: 0.0023\n",
            "Epoch 65/100\n",
            "39/39 [==============================] - 2s 42ms/step - loss: 0.0021\n",
            "Epoch 66/100\n",
            "39/39 [==============================] - 2s 42ms/step - loss: 0.0024\n",
            "Epoch 67/100\n",
            "39/39 [==============================] - 2s 42ms/step - loss: 0.0022\n",
            "Epoch 68/100\n",
            "39/39 [==============================] - 2s 43ms/step - loss: 0.0023\n",
            "Epoch 69/100\n",
            "39/39 [==============================] - 2s 43ms/step - loss: 0.0023\n",
            "Epoch 70/100\n",
            "39/39 [==============================] - 2s 42ms/step - loss: 0.0020\n",
            "Epoch 71/100\n",
            "39/39 [==============================] - 2s 42ms/step - loss: 0.0018\n",
            "Epoch 72/100\n",
            "39/39 [==============================] - 2s 41ms/step - loss: 0.0020\n",
            "Epoch 73/100\n",
            "39/39 [==============================] - 2s 42ms/step - loss: 0.0020\n",
            "Epoch 74/100\n",
            "39/39 [==============================] - 2s 41ms/step - loss: 0.0020\n",
            "Epoch 75/100\n",
            "39/39 [==============================] - 2s 43ms/step - loss: 0.0020\n",
            "Epoch 76/100\n",
            "39/39 [==============================] - 2s 41ms/step - loss: 0.0020\n",
            "Epoch 77/100\n",
            "39/39 [==============================] - 2s 45ms/step - loss: 0.0018\n",
            "Epoch 78/100\n",
            "39/39 [==============================] - 2s 43ms/step - loss: 0.0020\n",
            "Epoch 79/100\n",
            "39/39 [==============================] - 2s 41ms/step - loss: 0.0018\n",
            "Epoch 80/100\n",
            "39/39 [==============================] - 2s 43ms/step - loss: 0.0019\n",
            "Epoch 81/100\n",
            "39/39 [==============================] - 2s 42ms/step - loss: 0.0020\n",
            "Epoch 82/100\n",
            "39/39 [==============================] - 2s 42ms/step - loss: 0.0018\n",
            "Epoch 83/100\n",
            "39/39 [==============================] - 2s 44ms/step - loss: 0.0016\n",
            "Epoch 84/100\n",
            "39/39 [==============================] - 2s 42ms/step - loss: 0.0017\n",
            "Epoch 85/100\n",
            "39/39 [==============================] - 2s 42ms/step - loss: 0.0019\n",
            "Epoch 86/100\n",
            "39/39 [==============================] - 2s 41ms/step - loss: 0.0017\n",
            "Epoch 87/100\n",
            "39/39 [==============================] - 2s 42ms/step - loss: 0.0016\n",
            "Epoch 88/100\n",
            "39/39 [==============================] - 2s 41ms/step - loss: 0.0017\n",
            "Epoch 89/100\n",
            "39/39 [==============================] - 2s 43ms/step - loss: 0.0017\n",
            "Epoch 90/100\n",
            "39/39 [==============================] - 2s 42ms/step - loss: 0.0016\n",
            "Epoch 91/100\n",
            "39/39 [==============================] - 2s 46ms/step - loss: 0.0018\n",
            "Epoch 92/100\n",
            "39/39 [==============================] - 2s 42ms/step - loss: 0.0016\n",
            "Epoch 93/100\n",
            "39/39 [==============================] - 2s 41ms/step - loss: 0.0016\n",
            "Epoch 94/100\n",
            "39/39 [==============================] - 2s 44ms/step - loss: 0.0016\n",
            "Epoch 95/100\n",
            "39/39 [==============================] - 2s 42ms/step - loss: 0.0016\n",
            "Epoch 96/100\n",
            "39/39 [==============================] - 2s 41ms/step - loss: 0.0016\n",
            "Epoch 97/100\n",
            "39/39 [==============================] - 2s 42ms/step - loss: 0.0015\n",
            "Epoch 98/100\n",
            "39/39 [==============================] - 2s 42ms/step - loss: 0.0016\n",
            "Epoch 99/100\n",
            "39/39 [==============================] - 2s 41ms/step - loss: 0.0015\n",
            "Epoch 100/100\n",
            "39/39 [==============================] - 2s 42ms/step - loss: 0.0014\n"
          ]
        },
        {
          "output_type": "execute_result",
          "data": {
            "text/plain": [
              "<keras.callbacks.History at 0x7f041b47a790>"
            ]
          },
          "metadata": {},
          "execution_count": 33
        }
      ]
    },
    {
      "cell_type": "code",
      "metadata": {
        "id": "7Ycw3qBGEz_G"
      },
      "source": [
        "#we take a new dataset for the testing (GOOGL stock) \n",
        "dataset_test = df[df.Name == \"GOOGL\"]\n",
        "#we keep only the close price\n",
        "googl_real_stock_price = dataset_test.iloc[:, 4:5].values\n",
        "\n",
        "aal_training_set = pd.DataFrame(aal_training_set)\n",
        "googl_real_stock_price = pd.DataFrame(googl_real_stock_price)\n",
        "\n",
        "#we create the total dataset \n",
        "data_set_total = pd.concat((aal_training_set, googl_real_stock_price), axis = 0)\n",
        "\n",
        "#we create another MinMaxScaler in order to transform the testing data\n",
        "googl_scaler = MinMaxScaler(feature_range=(0, 1))\n",
        "inputs = data_set_total[len(data_set_total) - len(googl_real_stock_price) - window:].values\n",
        "inputs = inputs.reshape(-1,1)\n",
        "inputs = googl_scaler.fit_transform(inputs)"
      ],
      "execution_count": 34,
      "outputs": []
    },
    {
      "cell_type": "code",
      "metadata": {
        "id": "4PuUQ7LwE2zw",
        "colab": {
          "base_uri": "https://localhost:8080/"
        },
        "outputId": "b5c06e11-8ac0-4982-e2f7-cf98ebcb231d"
      },
      "source": [
        "#we create the test X_test\n",
        "googl_X_test = []\n",
        "for i in range(window, len(inputs)):\n",
        "    googl_X_test.append(inputs[i-window:i, 0])\n",
        "googl_X_test = np.array(googl_X_test)\n",
        "googl_X_test = np.reshape(googl_X_test, (googl_X_test.shape[0], googl_X_test.shape[1], 1))\n",
        "\n",
        "#we make the predictions based on the model which created in the previous steps\n",
        "googl_predicted_stock_price = model.predict(googl_X_test)\n",
        "googl_predicted_stock_price = googl_scaler.inverse_transform(googl_predicted_stock_price)\n",
        "print(googl_X_test)\n",
        "print(len(googl_X_test))\n"
      ],
      "execution_count": 35,
      "outputs": [
        {
          "output_type": "stream",
          "name": "stdout",
          "text": [
            "[[[0.00353313]\n",
            "  [0.0058534 ]\n",
            "  [0.00765512]\n",
            "  ...\n",
            "  [0.        ]\n",
            "  [0.00124802]\n",
            "  [0.00144138]]\n",
            "\n",
            " [[0.0058534 ]\n",
            "  [0.00765512]\n",
            "  [0.00722447]\n",
            "  ...\n",
            "  [0.00124802]\n",
            "  [0.00144138]\n",
            "  [0.30173818]]\n",
            "\n",
            " [[0.00765512]\n",
            "  [0.00722447]\n",
            "  [0.00738267]\n",
            "  ...\n",
            "  [0.00144138]\n",
            "  [0.30173818]\n",
            "  [0.3004405 ]]\n",
            "\n",
            " ...\n",
            "\n",
            " [[0.93208824]\n",
            "  [0.93553349]\n",
            "  [0.93428546]\n",
            "  ...\n",
            "  [0.99530673]\n",
            "  [0.99475303]\n",
            "  [0.93991914]]\n",
            "\n",
            " [[0.93553349]\n",
            "  [0.93428546]\n",
            "  [0.93195641]\n",
            "  ...\n",
            "  [0.99475303]\n",
            "  [0.93991914]\n",
            "  [0.88998945]]\n",
            "\n",
            " [[0.93428546]\n",
            "  [0.93195641]\n",
            "  [0.93363509]\n",
            "  ...\n",
            "  [0.93991914]\n",
            "  [0.88998945]\n",
            "  [0.90936017]]]\n",
            "1259\n"
          ]
        }
      ]
    },
    {
      "cell_type": "code",
      "metadata": {
        "id": "fv4FldG5E5bN",
        "colab": {
          "base_uri": "https://localhost:8080/",
          "height": 294
        },
        "outputId": "03d36353-fa20-4739-95f2-1f0cd5641d0f"
      },
      "source": [
        "plt.plot(googl_real_stock_price, color = 'black', label = 'GOOGL Stock Price')\n",
        "plt.plot(googl_predicted_stock_price, color = 'green', label = 'Predicted GOOGL Stock Price')\n",
        "plt.title('GOOGL Stock Price Prediction')\n",
        "plt.xlabel('Time')\n",
        "plt.ylabel('GOOGL Stock Price')\n",
        "plt.legend()\n",
        "plt.show()"
      ],
      "execution_count": 36,
      "outputs": [
        {
          "output_type": "display_data",
          "data": {
            "image/png": "[encoded data removed]",
            "text/plain": [
              "<Figure size 432x288 with 1 Axes>"
            ]
          },
          "metadata": {
            "needs_background": "light"
          }
        }
      ]
    },
    {
      "cell_type": "code",
      "metadata": {
        "colab": {
          "base_uri": "https://localhost:8080/"
        },
        "id": "aA_omXZUY4n2",
        "outputId": "a482303d-14cd-4a35-fcd5-ae40d13cf81d"
      },
      "source": [
        "mse = MeanSquaredError()\n",
        "mae = MeanAbsoluteError()\n",
        "mape = MeanAbsolutePercentageError()\n",
        "\n",
        "# average squared difference between the forecasted and actual values, stability of the model\n",
        "print('GOOGL MSE', mse(googl_real_stock_price, googl_predicted_stock_price).numpy())\n",
        "\n",
        "# average value of absolute error, which can reflect the actual situation of predicted value error\n",
        "print('GOOGL MAE', mae(googl_real_stock_price, googl_predicted_stock_price).numpy())\n",
        "\n",
        "# prediction deviation proportion in terms of the real value. A metric for the forecast accuracy\n",
        "print('GOOGL MAPE', mape(googl_real_stock_price, googl_predicted_stock_price).numpy())"
      ],
      "execution_count": 37,
      "outputs": [
        {
          "output_type": "stream",
          "name": "stdout",
          "text": [
            "GOOGL MSE 418.25244\n",
            "GOOGL MAE 14.210677\n",
            "GOOGL MAPE 2.38179\n"
          ]
        }
      ]
    },
    {
      "cell_type": "code",
      "metadata": {
        "id": "AsxsuylRiKYw"
      },
      "source": [
        ""
      ],
      "execution_count": null,
      "outputs": []
    }
  ]
}